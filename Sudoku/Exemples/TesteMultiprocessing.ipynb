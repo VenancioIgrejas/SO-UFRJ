{
 "cells": [
  {
   "cell_type": "code",
   "execution_count": 1,
   "metadata": {},
   "outputs": [],
   "source": [
    "import os\n",
    "import sys\n",
    "import time\n",
    "import numpy as np\n",
    "import pandas as pd\n",
    "from multiprocessing import Process,Queue,Event,Pipe\n",
    "\n",
    "from Functions.check import check_sudoku,timer"
   ]
  },
  {
   "cell_type": "code",
   "execution_count": 2,
   "metadata": {},
   "outputs": [],
   "source": [
    "# the function is not working weel (some bug)\n",
    "\n",
    "def debug(msg='defaul'):\n",
    "    print \"{0}\".format(msg)\n",
    "\n",
    "def create_lines(q,event,read_msg):\n",
    "    while True:\n",
    "        np.random.seed() # start each process with diferent seed for random\n",
    "        line_rdm = np.random.randint(1,10,size=(1,3)) # get one line of \"sudoku\"\n",
    "        if len(np.unique(line_rdm)) == 3: # don't repeat numbers\n",
    "            q.put(line_rdm) # add to Queue\n",
    "            debug('processo pra criar')\n",
    "            event.wait() # wait for process \"control_process\" finished\n",
    "            debug('passei do wait')\n",
    "            print read_msg.poll()\n",
    "            debug('passei da mensagem')\n",
    "            if read_msg.poll() is 'finished': # if the matrix is like Sudoku, then receive from pipe the message 'finished' \n",
    "                break #finish the process\n",
    "            \n",
    "\n",
    "def control_process(q,event,send_msg):\n",
    "    time.sleep(0.1) # time for process's create_lines start first\n",
    "    while True:\n",
    "        while not q.full():pass # wait 3 process put the line of matrix in Queue\n",
    "        list_tmp = []\n",
    "        while not q.empty():\n",
    "            list_tmp.append(q.get()) # 'create' de matrix \n",
    "        \n",
    "        print list_tmp\n",
    "        if len(np.unique(list_tmp)) == 9: # check if the matrix is Sudoku (don't repeat number)\n",
    "            debug('consegui')\n",
    "            q.put(list_tmp) # put the matrix in Queue for be caught in the future\n",
    "            send_msg.send_bytes('finished') # send for 3 processes the message that finished \n",
    "            send_msg.close()\n",
    "            event.set() # wake up 3 processes\n",
    "            break #finish the process\n",
    "        else:\n",
    "            debug('não consegui') # don't find the matrix is Sudoku because some number was repeated\n",
    "            event.set()# wake up 3 processes"
   ]
  },
  {
   "cell_type": "code",
   "execution_count": 3,
   "metadata": {},
   "outputs": [],
   "source": [
    "q = Queue(3)\n",
    "event = Event()\n",
    "send,read = Pipe()\n",
    "\n",
    "\n",
    "list_process = [Process(target=create_lines,args=(q,event,read)) for i in range(3)]\n",
    "list_process.append(Process(target=control_process,args=(q,event,send)))\n",
    "for process in list_process:\n",
    "    process.start()\n",
    "\n",
    "for process in list_process:\n",
    "    process.join()\n",
    "\n",
    "print q.get() #print the Sudoku"
   ]
  },
  {
   "cell_type": "code",
   "execution_count": null,
   "metadata": {},
   "outputs": [],
   "source": []
  }
 ],
 "metadata": {
  "kernelspec": {
   "display_name": "Python 2",
   "language": "python",
   "name": "python2"
  },
  "language_info": {
   "codemirror_mode": {
    "name": "ipython",
    "version": 2
   },
   "file_extension": ".py",
   "mimetype": "text/x-python",
   "name": "python",
   "nbconvert_exporter": "python",
   "pygments_lexer": "ipython2",
   "version": "2.7.15"
  }
 },
 "nbformat": 4,
 "nbformat_minor": 2
}
